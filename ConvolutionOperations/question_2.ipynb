{
  "cells": [
    {
      "cell_type": "code",
      "execution_count": 8,
      "id": "111bb8d1",
      "metadata": {
        "id": "111bb8d1"
      },
      "outputs": [],
      "source": [
        "import numpy as np\n",
        "import tensorflow as tf"
      ]
    },
    {
      "cell_type": "markdown",
      "id": "074a9ec1",
      "metadata": {
        "id": "074a9ec1"
      },
      "source": [
        "\n",
        "## Convolution Operations with Different Parameters\n",
        "\n",
        "This notebook implements a convolution operation on a **5×5 input matrix** using a **3×3 kernel** with different stride and padding configurations.\n",
        "\n",
        "### Input Matrix:\n",
        "The given **5×5 matrix**:\n",
        "\n",
        "```\n",
        "[[ 1,  2,  3,  4,  5],\n",
        " [ 6,  7,  8,  9, 10],\n",
        " [11, 12, 13, 14, 15],\n",
        " [16, 17, 18, 19, 20],\n",
        " [21, 22, 23, 24, 25]]\n",
        "```\n",
        "\n",
        "### Kernel:\n",
        "The given **3×3 kernel**:\n",
        "\n",
        "```\n",
        "[[ 0,  1,  0],\n",
        " [ 1, -4,  1],\n",
        " [ 0,  1,  0]]\n",
        "```\n",
        "\n",
        "We will perform convolutions with the following configurations:\n",
        "- **Stride = 1, Padding = 'VALID'**\n",
        "- **Stride = 1, Padding = 'SAME'**\n",
        "- **Stride = 2, Padding = 'VALID'**\n",
        "- **Stride = 2, Padding = 'SAME'**\n",
        "\n",
        "The output feature maps for each case will be printed.\n"
      ]
    },
    {
      "cell_type": "code",
      "execution_count": 2,
      "id": "82f608d5",
      "metadata": {
        "id": "82f608d5"
      },
      "outputs": [],
      "source": [
        "\n",
        "# Define the 5x5 input matrix\n",
        "input_matrix = np.array([[ 1,  2,  3,  4,  5],\n",
        "                         [ 6,  7,  8,  9, 10],\n",
        "                         [11, 12, 13, 14, 15],\n",
        "                         [16, 17, 18, 19, 20],\n",
        "                         [21, 22, 23, 24, 25]], dtype=np.float32)\n",
        "\n",
        "# Define the 3x3 kernel\n",
        "kernel = np.array([[ 0,  1,  0],\n",
        "                   [ 1, -4,  1],\n",
        "                   [ 0,  1,  0]], dtype=np.float32)\n"
      ]
    },
    {
      "cell_type": "markdown",
      "source": [
        "We apply convolution using NumPy (manual method)\n",
        "\n",
        "*   Extracts regions from the input matrix matching the kernel size.\n",
        "*   Multiplies element-wise with the kernel.\n",
        "*   Sums the values to produce the feature map.\n",
        "\n",
        "\n",
        "\n"
      ],
      "metadata": {
        "id": "Gn66C0nTKlZ8"
      },
      "id": "Gn66C0nTKlZ8"
    },
    {
      "cell_type": "code",
      "execution_count": 9,
      "id": "207fd8e6",
      "metadata": {
        "colab": {
          "base_uri": "https://localhost:8080/"
        },
        "id": "207fd8e6",
        "outputId": "fd9ef38d-0611-4b47-b7eb-7bd2213c98e6"
      },
      "outputs": [
        {
          "output_type": "stream",
          "name": "stdout",
          "text": [
            "Stride 1, Padding VALID:\n",
            "[[0. 0. 0.]\n",
            " [0. 0. 0.]\n",
            " [0. 0. 0.]]\n",
            "\n",
            "Stride 1, Padding SAME:\n",
            "[[  4.   3.   2.   1.  -6.]\n",
            " [ -5.   0.   0.   0. -11.]\n",
            " [-10.   0.   0.   0. -16.]\n",
            " [-15.   0.   0.   0. -21.]\n",
            " [-46. -27. -28. -29. -56.]]\n",
            "\n",
            "Stride 2, Padding VALID:\n",
            "[[0. 0.]\n",
            " [0. 0.]]\n",
            "\n",
            "Stride 2, Padding SAME:\n",
            "[[  4.   2.  -6.]\n",
            " [-10.   0. -16.]\n",
            " [-46. -28. -56.]]\n",
            "\n"
          ]
        }
      ],
      "source": [
        "def convolve2D(image, kernel, stride, padding):\n",
        "    kernel_size = kernel.shape[0]\n",
        "\n",
        "    # Apply padding if needed\n",
        "    if padding == 'SAME':\n",
        "        pad_size = kernel_size // 2\n",
        "        padded_image = np.pad(image, pad_size, mode='constant', constant_values=0)\n",
        "    else:\n",
        "        padded_image = image\n",
        "\n",
        "    output_size = ((padded_image.shape[0] - kernel_size) // stride) + 1\n",
        "    output = np.zeros((output_size, output_size))\n",
        "\n",
        "    for i in range(0, output_size * stride, stride):\n",
        "        for j in range(0, output_size * stride, stride):\n",
        "            region = padded_image[i:i+kernel_size, j:j+kernel_size]\n",
        "            output[i//stride, j//stride] = np.sum(region * kernel)\n",
        "\n",
        "    return output\n",
        "\n",
        "# Compute convolutions with different parameters\n",
        "outputs_numpy = {\n",
        "    \"Stride 1, Padding VALID\": convolve2D(input_matrix, kernel, stride=1, padding='VALID'),\n",
        "    \"Stride 1, Padding SAME\": convolve2D(input_matrix, kernel, stride=1, padding='SAME'),\n",
        "    \"Stride 2, Padding VALID\": convolve2D(input_matrix, kernel, stride=2, padding='VALID'),\n",
        "    \"Stride 2, Padding SAME\": convolve2D(input_matrix, kernel, stride=2, padding='SAME')\n",
        "}\n",
        "\n",
        "# Print NumPy outputs\n",
        "for key, value in outputs_numpy.items():\n",
        "    print(f\"{key}:\\n{value}\\n\")\n",
        "\n"
      ]
    },
    {
      "cell_type": "markdown",
      "source": [
        "We apply convolution using TensorFlow/Keras (optimized method)\n",
        "\n",
        "*   Uses tf.nn.conv2d(), which:\n",
        "*   Applies a sliding window over the input.\n",
        "*   Performs element-wise multiplication.\n",
        "*   Computes the sum to get the output.\n",
        "\n"
      ],
      "metadata": {
        "id": "loNdqFRgKwkR"
      },
      "id": "loNdqFRgKwkR"
    },
    {
      "cell_type": "code",
      "execution_count": 10,
      "id": "28c1ca07",
      "metadata": {
        "colab": {
          "base_uri": "https://localhost:8080/"
        },
        "id": "28c1ca07",
        "outputId": "7db9779f-9371-4b3d-9b78-01fd15e256ef"
      },
      "outputs": [
        {
          "output_type": "stream",
          "name": "stdout",
          "text": [
            "Stride 1, Padding VALID:\n",
            "[[0. 0. 0.]\n",
            " [0. 0. 0.]\n",
            " [0. 0. 0.]]\n",
            "\n",
            "Stride 1, Padding SAME:\n",
            "[[  4.   3.   2.   1.  -6.]\n",
            " [ -5.   0.   0.   0. -11.]\n",
            " [-10.   0.   0.   0. -16.]\n",
            " [-15.   0.   0.   0. -21.]\n",
            " [-46. -27. -28. -29. -56.]]\n",
            "\n",
            "Stride 2, Padding VALID:\n",
            "[[0. 0.]\n",
            " [0. 0.]]\n",
            "\n",
            "Stride 2, Padding SAME:\n",
            "[[  4.   2.  -6.]\n",
            " [-10.   0. -16.]\n",
            " [-46. -28. -56.]]\n",
            "\n"
          ]
        }
      ],
      "source": [
        "def perform_tf_convolution(input_matrix, kernel, stride, padding):\n",
        "    # Reshape input and kernel for TensorFlow compatibility\n",
        "    input_tensor = tf.constant(input_matrix, shape=[1, 5, 5, 1], dtype=tf.float32)\n",
        "    kernel_tensor = tf.constant(kernel, shape=[3, 3, 1, 1], dtype=tf.float32)\n",
        "\n",
        "    # Perform 2D convolution\n",
        "    output = tf.nn.conv2d(input_tensor, kernel_tensor, strides=[1, stride, stride, 1], padding=padding.upper())\n",
        "\n",
        "    return tf.squeeze(output).numpy()  # Convert tensor to NumPy array\n",
        "\n",
        "# Compute convolutions with different parameters\n",
        "outputs_tf = {\n",
        "    \"Stride 1, Padding VALID\": perform_tf_convolution(input_matrix, kernel, stride=1, padding='VALID'),\n",
        "    \"Stride 1, Padding SAME\": perform_tf_convolution(input_matrix, kernel, stride=1, padding='SAME'),\n",
        "    \"Stride 2, Padding VALID\": perform_tf_convolution(input_matrix, kernel, stride=2, padding='VALID'),\n",
        "    \"Stride 2, Padding SAME\": perform_tf_convolution(input_matrix, kernel, stride=2, padding='SAME')\n",
        "}\n",
        "\n",
        "# Print TensorFlow/Keras outputs\n",
        "for key, value in outputs_tf.items():\n",
        "    print(f\"{key}:\\n{value}\\n\")\n"
      ]
    }
  ],
  "metadata": {
    "colab": {
      "provenance": [],
      "toc_visible": true
    },
    "language_info": {
      "name": "python"
    },
    "kernelspec": {
      "name": "python3",
      "display_name": "Python 3"
    }
  },
  "nbformat": 4,
  "nbformat_minor": 5
}